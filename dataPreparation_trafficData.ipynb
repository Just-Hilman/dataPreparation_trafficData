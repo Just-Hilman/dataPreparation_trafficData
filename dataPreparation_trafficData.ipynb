{
  "nbformat": 4,
  "nbformat_minor": 0,
  "metadata": {
    "colab": {
      "name": "Homework_hilman_python.ipynb",
      "provenance": []
    },
    "kernelspec": {
      "name": "python3",
      "display_name": "Python 3"
    },
    "language_info": {
      "name": "python"
    }
  },
  "cells": [
    {
      "cell_type": "code",
      "execution_count": null,
      "metadata": {
        "id": "XwBzb9K3u3AT"
      },
      "outputs": [],
      "source": [
        "dataTraffic = [\n",
        "  {\n",
        "      'date':'2014-01-01',\n",
        "      'device':[\n",
        "          {'Chrome':900},\n",
        "          {'Firefox':692},\n",
        "          {'Opera':35},\n",
        "          {'Internet Explorer':484},\n",
        "          {'Android Browser':969}\n",
        "      ]\n",
        "  },\n",
        "  {\n",
        "      'date':'2014-01-02',\n",
        "      'device':[\n",
        "          {'Chrome':878},\n",
        "          {'Firefox':412},\n",
        "          {'Opera':23},\n",
        "          {'Internet Explorer':221},\n",
        "          {'Android Browser':412}\n",
        "      ]\n",
        "  },\n",
        "  {\n",
        "      'date':'2014-01-03',\n",
        "      'device':[\n",
        "          {'Chrome':573},\n",
        "          {'Firefox':673},\n",
        "          {'Opera':87},\n",
        "          {'Internet Explorer':876},\n",
        "          {'Android Browser':645}\n",
        "      ]\n",
        "  },\n",
        "  {\n",
        "      'date':'2014-01-04',\n",
        "      'device':[\n",
        "          {'Chrome':341},\n",
        "          {'Firefox':331},\n",
        "          {'Opera':23},\n",
        "          {'Internet Explorer':321},\n",
        "          {'Android Browser':313}\n",
        "      ]\n",
        "  },\n",
        "  {\n",
        "      'date':'2014-01-05',\n",
        "      'device':[\n",
        "          {'Chrome':908},\n",
        "          {'Firefox':114},\n",
        "          {'Opera':43},\n",
        "          {'Internet Explorer':871},\n",
        "          {'Android Browser':563}\n",
        "      ]\n",
        "  },\n",
        "  {\n",
        "      'date':'2014-01-06',\n",
        "      'device':[\n",
        "          {'Chrome':781},\n",
        "          {'Firefox':908},\n",
        "          {'Opera':41},\n",
        "          {'Internet Explorer':983},\n",
        "          {'Android Browser':542}\n",
        "      ]\n",
        "  },\n",
        "  {\n",
        "      'date':'2014-01-07',\n",
        "      'device':[\n",
        "          {'Chrome':1190},\n",
        "          {'Firefox':876},\n",
        "          {'Opera':44},\n",
        "          {'Internet Explorer':211},\n",
        "          {'Android Browser':435}\n",
        "      ]\n",
        "  },\n",
        "  {\n",
        "      'date':'2014-01-08',\n",
        "      'device':[\n",
        "          {'Chrome':452},\n",
        "          {'Firefox':653},\n",
        "          {'Opera':25},\n",
        "          {'Internet Explorer':537},\n",
        "          {'Android Browser':232}\n",
        "      ]\n",
        "  },\n",
        "  {\n",
        "      'date':'2014-01-09',\n",
        "      'device':[\n",
        "          {'Chrome':782},\n",
        "          {'Firefox':231},\n",
        "          {'Opera':89},\n",
        "          {'Internet Explorer':873},\n",
        "          {'Android Browser':124}\n",
        "      ]\n",
        "  },\n",
        "  {\n",
        "      'date':'2014-01-10',\n",
        "      'device':[\n",
        "          {'Chrome':764},\n",
        "          {'Firefox':532},\n",
        "          {'Opera':89},\n",
        "          {'Internet Explorer':901},\n",
        "          {'Android Browser':1163}\n",
        "      ]\n",
        "  } \n",
        "]"
      ]
    },
    {
      "cell_type": "code",
      "source": [
        "class dataPreparation:\n",
        "  def __init__(self, DataInput):\n",
        "    self.input = DataInput\n",
        "\n",
        "  def proses(self):\n",
        "    output = []\n",
        "\n",
        "    for data in self.input:\n",
        "      for dvc in data['device']:\n",
        "        name_dvc = list(dvc.keys())[0]\n",
        "        values_dvc = list(dvc.values())[0]\n",
        "        output.append({'date':data['date'], 'device':name_dvc, 'visit':values_dvc})\n",
        "    return output\n",
        "\n",
        "  def aggregate(self):\n",
        "    output = []\n",
        "    traffic_sum = 0\n",
        "\n",
        "    for data in self.input:\n",
        "      for dvc in data['device']:\n",
        "        name_dvc = list(dvc.keys())[0]\n",
        "        values_dvc = list(dvc.values())[0]\n",
        "        if name_dvc == 'Chrome':\n",
        "          traffic_sum = 0\n",
        "        traffic_sum += values_dvc\n",
        "      # print(traffic_sum)\n",
        "        \n",
        "      \n",
        "      output.append({'date':data['date'], 'traffic':traffic_sum})\n",
        "\n",
        "    return output\n",
        "\n",
        "ResultValues = dataPreparation(dataTraffic).proses()\n",
        "AgregasiTraffic = dataPreparation(dataTraffic).aggregate()\n"
      ],
      "metadata": {
        "id": "ICjZvReW0r8a"
      },
      "execution_count": null,
      "outputs": []
    },
    {
      "cell_type": "code",
      "source": [
        "ResultValues"
      ],
      "metadata": {
        "colab": {
          "base_uri": "https://localhost:8080/"
        },
        "id": "UdJb6_pB7BhM",
        "outputId": "1fc5fae0-27e0-4ff5-e1c8-347f29cb9eff"
      },
      "execution_count": null,
      "outputs": [
        {
          "output_type": "execute_result",
          "data": {
            "text/plain": [
              "[{'date': '2014-01-01', 'device': 'Chrome', 'visit': 900},\n",
              " {'date': '2014-01-01', 'device': 'Firefox', 'visit': 692},\n",
              " {'date': '2014-01-01', 'device': 'Opera', 'visit': 35},\n",
              " {'date': '2014-01-01', 'device': 'Internet Explorer', 'visit': 484},\n",
              " {'date': '2014-01-01', 'device': 'Android Browser', 'visit': 969},\n",
              " {'date': '2014-01-02', 'device': 'Chrome', 'visit': 878},\n",
              " {'date': '2014-01-02', 'device': 'Firefox', 'visit': 412},\n",
              " {'date': '2014-01-02', 'device': 'Opera', 'visit': 23},\n",
              " {'date': '2014-01-02', 'device': 'Internet Explorer', 'visit': 221},\n",
              " {'date': '2014-01-02', 'device': 'Android Browser', 'visit': 412},\n",
              " {'date': '2014-01-03', 'device': 'Chrome', 'visit': 573},\n",
              " {'date': '2014-01-03', 'device': 'Firefox', 'visit': 673},\n",
              " {'date': '2014-01-03', 'device': 'Opera', 'visit': 87},\n",
              " {'date': '2014-01-03', 'device': 'Internet Explorer', 'visit': 876},\n",
              " {'date': '2014-01-03', 'device': 'Android Browser', 'visit': 645},\n",
              " {'date': '2014-01-04', 'device': 'Chrome', 'visit': 341},\n",
              " {'date': '2014-01-04', 'device': 'Firefox', 'visit': 331},\n",
              " {'date': '2014-01-04', 'device': 'Opera', 'visit': 23},\n",
              " {'date': '2014-01-04', 'device': 'Internet Explorer', 'visit': 321},\n",
              " {'date': '2014-01-04', 'device': 'Android Browser', 'visit': 313},\n",
              " {'date': '2014-01-05', 'device': 'Chrome', 'visit': 908},\n",
              " {'date': '2014-01-05', 'device': 'Firefox', 'visit': 114},\n",
              " {'date': '2014-01-05', 'device': 'Opera', 'visit': 43},\n",
              " {'date': '2014-01-05', 'device': 'Internet Explorer', 'visit': 871},\n",
              " {'date': '2014-01-05', 'device': 'Android Browser', 'visit': 563},\n",
              " {'date': '2014-01-06', 'device': 'Chrome', 'visit': 781},\n",
              " {'date': '2014-01-06', 'device': 'Firefox', 'visit': 908},\n",
              " {'date': '2014-01-06', 'device': 'Opera', 'visit': 41},\n",
              " {'date': '2014-01-06', 'device': 'Internet Explorer', 'visit': 983},\n",
              " {'date': '2014-01-06', 'device': 'Android Browser', 'visit': 542},\n",
              " {'date': '2014-01-07', 'device': 'Chrome', 'visit': 1190},\n",
              " {'date': '2014-01-07', 'device': 'Firefox', 'visit': 876},\n",
              " {'date': '2014-01-07', 'device': 'Opera', 'visit': 44},\n",
              " {'date': '2014-01-07', 'device': 'Internet Explorer', 'visit': 211},\n",
              " {'date': '2014-01-07', 'device': 'Android Browser', 'visit': 435},\n",
              " {'date': '2014-01-08', 'device': 'Chrome', 'visit': 452},\n",
              " {'date': '2014-01-08', 'device': 'Firefox', 'visit': 653},\n",
              " {'date': '2014-01-08', 'device': 'Opera', 'visit': 25},\n",
              " {'date': '2014-01-08', 'device': 'Internet Explorer', 'visit': 537},\n",
              " {'date': '2014-01-08', 'device': 'Android Browser', 'visit': 232},\n",
              " {'date': '2014-01-09', 'device': 'Chrome', 'visit': 782},\n",
              " {'date': '2014-01-09', 'device': 'Firefox', 'visit': 231},\n",
              " {'date': '2014-01-09', 'device': 'Opera', 'visit': 89},\n",
              " {'date': '2014-01-09', 'device': 'Internet Explorer', 'visit': 873},\n",
              " {'date': '2014-01-09', 'device': 'Android Browser', 'visit': 124},\n",
              " {'date': '2014-01-10', 'device': 'Chrome', 'visit': 764},\n",
              " {'date': '2014-01-10', 'device': 'Firefox', 'visit': 532},\n",
              " {'date': '2014-01-10', 'device': 'Opera', 'visit': 89},\n",
              " {'date': '2014-01-10', 'device': 'Internet Explorer', 'visit': 901},\n",
              " {'date': '2014-01-10', 'device': 'Android Browser', 'visit': 1163}]"
            ]
          },
          "metadata": {},
          "execution_count": 5
        }
      ]
    },
    {
      "cell_type": "code",
      "source": [
        "AgregasiTraffic"
      ],
      "metadata": {
        "colab": {
          "base_uri": "https://localhost:8080/"
        },
        "id": "QrAFtLuK_mpp",
        "outputId": "5dd6af94-b1ad-4e8c-fe38-41030138ed40"
      },
      "execution_count": null,
      "outputs": [
        {
          "output_type": "execute_result",
          "data": {
            "text/plain": [
              "[{'date': '2014-01-01', 'traffic': 3080},\n",
              " {'date': '2014-01-02', 'traffic': 1946},\n",
              " {'date': '2014-01-03', 'traffic': 2854},\n",
              " {'date': '2014-01-04', 'traffic': 1329},\n",
              " {'date': '2014-01-05', 'traffic': 2499},\n",
              " {'date': '2014-01-06', 'traffic': 3255},\n",
              " {'date': '2014-01-07', 'traffic': 2756},\n",
              " {'date': '2014-01-08', 'traffic': 1899},\n",
              " {'date': '2014-01-09', 'traffic': 2099},\n",
              " {'date': '2014-01-10', 'traffic': 3449}]"
            ]
          },
          "metadata": {},
          "execution_count": 6
        }
      ]
    }
  ]
}